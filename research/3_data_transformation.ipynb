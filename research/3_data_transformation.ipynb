{
 "cells": [
  {
   "cell_type": "code",
   "id": "initial_id",
   "metadata": {
    "collapsed": true,
    "ExecuteTime": {
     "end_time": "2025-10-14T14:29:15.133755Z",
     "start_time": "2025-10-14T14:29:15.129375Z"
    }
   },
   "source": [
    "from datascience.utils.common import read_yaml, create_directories\n",
    "from datascience.constants import *\n",
    "from dataclasses import dataclass\n",
    "from pathlib import Path\n",
    "from datascience import logger_app\n",
    "from sklearn.model_selection import train_test_split\n",
    "\n",
    "import pandas as pd\n",
    "import os"
   ],
   "outputs": [],
   "execution_count": 21
  },
  {
   "metadata": {
    "ExecuteTime": {
     "end_time": "2025-10-14T14:29:15.153771Z",
     "start_time": "2025-10-14T14:29:15.148671Z"
    }
   },
   "cell_type": "code",
   "source": [
    "@dataclass\n",
    "class DataTransformationConfig:\n",
    "    root_dir:Path\n",
    "    data_path:Path"
   ],
   "id": "3f3d105a8885b29f",
   "outputs": [],
   "execution_count": 22
  },
  {
   "metadata": {
    "ExecuteTime": {
     "end_time": "2025-10-14T14:29:15.167789Z",
     "start_time": "2025-10-14T14:29:15.161425Z"
    }
   },
   "cell_type": "code",
   "source": [
    "class ConfigurationManager:\n",
    "    def __init__(\n",
    "        self,\n",
    "        config_filepath = CONFIG_FILE_PATH,\n",
    "        params_filepath = PARAMS_FILE_PATH,\n",
    "        schema_filepath = SCHEMA_FILE_PATH):\n",
    "\n",
    "        self.config = read_yaml(config_filepath)\n",
    "        self.params = read_yaml(params_filepath)\n",
    "        self.schema = read_yaml(schema_filepath)\n",
    "\n",
    "        create_directories([self.config.artifacts_root])\n",
    "\n",
    "    def get_data_transformation_config(self) -> DataTransformationConfig:\n",
    "        config = self.config.data_transformation\n",
    "        create_directories([config.root_dir])\n",
    "        data_transformation_config = DataTransformationConfig(\n",
    "            root_dir=config.root_dir,\n",
    "            data_path=config.data_path\n",
    "        )\n",
    "\n",
    "        return data_transformation_config\n",
    "\n"
   ],
   "id": "1bb5741e6d76405b",
   "outputs": [],
   "execution_count": 23
  },
  {
   "metadata": {
    "ExecuteTime": {
     "end_time": "2025-10-14T14:29:15.181772Z",
     "start_time": "2025-10-14T14:29:15.175933Z"
    }
   },
   "cell_type": "code",
   "source": [
    "class DataTransformation:\n",
    "    def __init__(self, config: DataTransformationConfig):\n",
    "        self.config = config\n",
    "\n",
    "        # Note: Can add different data transformation techniques such as Scaler, PCA and all\n",
    "\n",
    "    def train_test_splitting(self):\n",
    "        data = pd.read_csv(self.config.data_path)\n",
    "\n",
    "        # Split the data (0.75, 0.25)\n",
    "        train, test = train_test_split(data)\n",
    "\n",
    "        train.to_csv(os.path.join(self.config.root_dir, \"train.csv\"), index=False)\n",
    "        test.to_csv(os.path.join(self.config.root_dir, \"test.csv\"), index=False)\n",
    "\n",
    "        logger_app.info(\"Split data into training and test sets\")\n",
    "        logger_app.info(train.shape)\n",
    "        logger_app.info(test.shape)\n",
    "\n",
    "        print(train.shape)\n",
    "        print(test.shape)\n",
    "\n"
   ],
   "id": "7e757bda9ed32998",
   "outputs": [],
   "execution_count": 24
  },
  {
   "metadata": {
    "ExecuteTime": {
     "end_time": "2025-10-14T14:29:15.243743Z",
     "start_time": "2025-10-14T14:29:15.193962Z"
    }
   },
   "cell_type": "code",
   "source": [
    "try:\n",
    "    config = ConfigurationManager()\n",
    "    data_transformation_config = config.get_data_transformation_config()\n",
    "    data_transformation = DataTransformation(config=data_transformation_config)\n",
    "    data_transformation.train_test_splitting()\n",
    "\n",
    "except Exception as ex:\n",
    "    raise ex"
   ],
   "id": "f8f763c9d6f5b56f",
   "outputs": [
    {
     "name": "stdout",
     "output_type": "stream",
     "text": [
      "[2025-10-14 17:29:15,199-> INFO-> common-> yaml file: C:\\Users\\Darius\\PycharmProjects\\Mlops_Project_1\\src\\datascience\\config\\config.yaml loaded successfully]\n",
      "[2025-10-14 17:29:15,203-> INFO-> common-> yaml file: C:\\Users\\Darius\\PycharmProjects\\Mlops_Project_1\\params.yaml loaded successfully]\n",
      "[2025-10-14 17:29:15,206-> INFO-> common-> yaml file: C:\\Users\\Darius\\PycharmProjects\\Mlops_Project_1\\schema.yaml loaded successfully]\n",
      "[2025-10-14 17:29:15,208-> INFO-> common-> created directory at: artifacts]\n",
      "[2025-10-14 17:29:15,209-> INFO-> common-> created directory at: artifacts/data_transformation]\n",
      "[2025-10-14 17:29:15,237-> INFO-> 2737010789-> Split data into training and test sets]\n",
      "[2025-10-14 17:29:15,239-> INFO-> 2737010789-> (1199, 12)]\n",
      "[2025-10-14 17:29:15,239-> INFO-> 2737010789-> (400, 12)]\n",
      "(1199, 12)\n",
      "(400, 12)\n"
     ]
    }
   ],
   "execution_count": 25
  }
 ],
 "metadata": {
  "kernelspec": {
   "display_name": "Python 3",
   "language": "python",
   "name": "python3"
  },
  "language_info": {
   "codemirror_mode": {
    "name": "ipython",
    "version": 2
   },
   "file_extension": ".py",
   "mimetype": "text/x-python",
   "name": "python",
   "nbconvert_exporter": "python",
   "pygments_lexer": "ipython2",
   "version": "2.7.6"
  }
 },
 "nbformat": 4,
 "nbformat_minor": 5
}
