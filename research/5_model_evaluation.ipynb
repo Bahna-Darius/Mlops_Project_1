{
 "cells": [
  {
   "cell_type": "code",
   "id": "initial_id",
   "metadata": {
    "collapsed": true,
    "ExecuteTime": {
     "end_time": "2025-10-23T15:04:20.613093Z",
     "start_time": "2025-10-23T15:04:20.603915Z"
    }
   },
   "source": [
    "from datascience.utils.common import read_yaml, create_directories, save_json\n",
    "from sklearn.metrics import mean_squared_error, mean_absolute_error, r2_score\n",
    "from urllib.parse import urlparse\n",
    "from datascience.constants import *\n",
    "from dataclasses import dataclass\n",
    "from pathlib import Path\n",
    "\n",
    "import mlflow.sklearn\n",
    "import pandas as pd\n",
    "import numpy as np\n",
    "import joblib\n",
    "import os"
   ],
   "outputs": [],
   "execution_count": 35
  },
  {
   "metadata": {
    "ExecuteTime": {
     "end_time": "2025-10-23T15:04:20.652580Z",
     "start_time": "2025-10-23T15:04:20.643994Z"
    }
   },
   "cell_type": "code",
   "source": [
    "# os.chdir(\"../\")   for write in base_dir\n",
    "%pwd"
   ],
   "id": "cc5cb9cf50c66610",
   "outputs": [
    {
     "data": {
      "text/plain": [
       "'C:\\\\Users\\\\Darius\\\\PycharmProjects\\\\Mlops_Project_1'"
      ]
     },
     "execution_count": 36,
     "metadata": {},
     "output_type": "execute_result"
    }
   ],
   "execution_count": 36
  },
  {
   "metadata": {
    "ExecuteTime": {
     "end_time": "2025-10-23T15:04:20.684642Z",
     "start_time": "2025-10-23T15:04:20.665318Z"
    }
   },
   "cell_type": "code",
   "source": [
    "os.environ[\"MLFLOW_TRACKING_URI\"]=\"https://dagshub.com/Bahna-Darius/Mlops_Project_1.mlflow\"\n",
    "os.environ[\"MLFLOW_TRACKING_USERNAME\"]=\"Bahna-Darius\"\n",
    "os.environ[\"MLFLOW_TRACKING_PASSWORD\"]=\"4f1f95f843b7c12494324c9ee8db37fddb02a368\"\n",
    "os.environ[\"MLFLOW_TRACKING_SERVER_SUPPORTS_LOGGED_MODEL\"] = \"false\""
   ],
   "id": "991268c784b35c27",
   "outputs": [],
   "execution_count": 37
  },
  {
   "metadata": {
    "ExecuteTime": {
     "end_time": "2025-10-23T15:04:20.695560Z",
     "start_time": "2025-10-23T15:04:20.684642Z"
    }
   },
   "cell_type": "code",
   "source": [
    "@dataclass\n",
    "class ModelEvaluationConfig:\n",
    "    root_dir: Path\n",
    "    test_data_path: Path\n",
    "    model_path: Path\n",
    "    all_params: dict\n",
    "    metric_file_name: Path\n",
    "    target_column: str\n",
    "    mlflow_uri: str\n"
   ],
   "id": "fdab9d87fb0abe5d",
   "outputs": [],
   "execution_count": 38
  },
  {
   "metadata": {
    "ExecuteTime": {
     "end_time": "2025-10-23T15:04:20.708516Z",
     "start_time": "2025-10-23T15:04:20.697334Z"
    }
   },
   "cell_type": "code",
   "source": [
    "class ConfigurationManager:\n",
    "    def __init__(\n",
    "        self,\n",
    "        config_filepath = CONFIG_FILE_PATH,\n",
    "        params_filepath = PARAMS_FILE_PATH,\n",
    "        schema_filepath = SCHEMA_FILE_PATH):\n",
    "\n",
    "        self.config = read_yaml(config_filepath)\n",
    "        self.params = read_yaml(params_filepath)\n",
    "        self.schema = read_yaml(schema_filepath)\n",
    "\n",
    "        create_directories([self.config.artifacts_root])\n",
    "\n",
    "\n",
    "    def get_model_evaluation(self) -> ModelEvaluationConfig:\n",
    "        config=self.config.model_evaluation\n",
    "        params=self.params.ElasticNet\n",
    "        schema=self.schema.TARGET_COLUMN\n",
    "\n",
    "        create_directories([config.root_dir])\n",
    "\n",
    "        model_evaluation_config = ModelEvaluationConfig(\n",
    "            root_dir=config.root_dir,\n",
    "            test_data_path=config.test_data_path,\n",
    "            model_path=config.model_path,\n",
    "            all_params=params,\n",
    "            metric_file_name=config.metric_file_name,\n",
    "            target_column=schema.name,\n",
    "            mlflow_uri=\"https://dagshub.com/Bahna-Darius/Mlops_Project_1.mlflow\"\n",
    "        )\n",
    "\n",
    "        return model_evaluation_config\n"
   ],
   "id": "c02880392154d779",
   "outputs": [],
   "execution_count": 39
  },
  {
   "metadata": {
    "ExecuteTime": {
     "end_time": "2025-10-23T15:04:20.723952Z",
     "start_time": "2025-10-23T15:04:20.715617Z"
    }
   },
   "cell_type": "code",
   "source": [
    "class ModelEvaluation:\n",
    "    def __init__(self, config: ModelEvaluationConfig):\n",
    "        self.config = config\n",
    "\n",
    "    def eval_metrics(self,actual, pred):\n",
    "        rmse = np.sqrt(mean_squared_error(actual, pred))\n",
    "        mae = mean_absolute_error(actual, pred)\n",
    "        r2 = r2_score(actual, pred)\n",
    "        return rmse, mae, r2\n",
    "\n",
    "    def log_into_mlflow(self):\n",
    "\n",
    "        test_data = pd.read_csv(self.config.test_data_path)\n",
    "        model = joblib.load(self.config.model_path)\n",
    "\n",
    "        test_x = test_data.drop([self.config.target_column], axis=1)\n",
    "        test_y = test_data[[self.config.target_column]]\n",
    "\n",
    "\n",
    "        mlflow.set_registry_uri(self.config.mlflow_uri)\n",
    "        tracking_url_type_store = urlparse(mlflow.get_tracking_uri()).scheme\n",
    "\n",
    "        with mlflow.start_run():\n",
    "\n",
    "            predicted_qualities = model.predict(test_x)\n",
    "\n",
    "            (rmse, mae, r2) = self.eval_metrics(test_y, predicted_qualities)\n",
    "\n",
    "            # Saving metrics as local\n",
    "            scores = {\"rmse\": rmse, \"mae\": mae, \"r2\": r2}\n",
    "            save_json(path=Path(self.config.metric_file_name), data=scores)\n",
    "\n",
    "            mlflow.log_params(self.config.all_params)\n",
    "\n",
    "            mlflow.log_metric(\"rmse\", rmse)\n",
    "            mlflow.log_metric(\"r2\", r2)\n",
    "            mlflow.log_metric(\"mae\", mae)\n",
    "\n",
    "\n",
    "            # Model registry does not work with file store\n",
    "            if tracking_url_type_store != \"file\":\n",
    "\n",
    "                # Register the model\n",
    "                # There are other ways to use the Model Registry, which depends on the use case,\n",
    "                # please refer to the doc for more information:\n",
    "                # https://mlflow.org/docs/latest/model-registry.html#api-workflow\n",
    "                mlflow.sklearn.log_model(model, \"model\")\n",
    "\n",
    "            else:\n",
    "                mlflow.sklearn.log_model(model, \"model\")\n",
    "\n"
   ],
   "id": "91f77c0735f4a9df",
   "outputs": [],
   "execution_count": 40
  },
  {
   "metadata": {
    "ExecuteTime": {
     "end_time": "2025-10-23T15:04:27.187292Z",
     "start_time": "2025-10-23T15:04:20.731271Z"
    }
   },
   "cell_type": "code",
   "source": [
    "try:\n",
    "    config = ConfigurationManager()\n",
    "    model_evaluation_config = config.get_model_evaluation()\n",
    "    model_evaluation = ModelEvaluation(config=model_evaluation_config)\n",
    "    model_evaluation.log_into_mlflow()\n",
    "except Exception as e:\n",
    "    raise e"
   ],
   "id": "bdd060a6935b186e",
   "outputs": [
    {
     "name": "stdout",
     "output_type": "stream",
     "text": [
      "[2025-10-23 18:04:20,737-> INFO-> common-> yaml file: C:\\Users\\Darius\\PycharmProjects\\Mlops_Project_1\\src\\datascience\\config\\config.yaml loaded successfully]\n",
      "[2025-10-23 18:04:20,737-> INFO-> common-> yaml file: C:\\Users\\Darius\\PycharmProjects\\Mlops_Project_1\\params.yaml loaded successfully]\n",
      "[2025-10-23 18:04:20,737-> INFO-> common-> yaml file: C:\\Users\\Darius\\PycharmProjects\\Mlops_Project_1\\schema.yaml loaded successfully]\n",
      "[2025-10-23 18:04:20,747-> INFO-> common-> created directory at: artifacts]\n",
      "[2025-10-23 18:04:20,747-> INFO-> common-> created directory at: artifacts/model_evaluation]\n",
      "[2025-10-23 18:04:21,423-> INFO-> common-> json file saved at: artifacts\\model_evaluation\\metrics.json]\n"
     ]
    },
    {
     "name": "stderr",
     "output_type": "stream",
     "text": [
      "2025/10/23 18:04:25 WARNING mlflow.models.model: `artifact_path` is deprecated. Please use `name` instead.\n"
     ]
    },
    {
     "name": "stdout",
     "output_type": "stream",
     "text": [
      "🏃 View run tasteful-flea-572 at: https://dagshub.com/Bahna-Darius/Mlops_Project_1.mlflow/#/experiments/0/runs/3b67d4e6aa0c49eaa0c86996f912d20a\n",
      "🧪 View experiment at: https://dagshub.com/Bahna-Darius/Mlops_Project_1.mlflow/#/experiments/0\n"
     ]
    },
    {
     "ename": "RestException",
     "evalue": "INTERNAL_ERROR: Response: {'error': 'unsupported endpoint, please contact support@dagshub.com'}",
     "output_type": "error",
     "traceback": [
      "\u001B[31m---------------------------------------------------------------------------\u001B[39m",
      "\u001B[31mRestException\u001B[39m                             Traceback (most recent call last)",
      "\u001B[36mCell\u001B[39m\u001B[36m \u001B[39m\u001B[32mIn[41]\u001B[39m\u001B[32m, line 7\u001B[39m\n\u001B[32m      5\u001B[39m     model_evaluation.log_into_mlflow()\n\u001B[32m      6\u001B[39m \u001B[38;5;28;01mexcept\u001B[39;00m \u001B[38;5;167;01mException\u001B[39;00m \u001B[38;5;28;01mas\u001B[39;00m e:\n\u001B[32m----> \u001B[39m\u001B[32m7\u001B[39m     \u001B[38;5;28;01mraise\u001B[39;00m e\n",
      "\u001B[36mCell\u001B[39m\u001B[36m \u001B[39m\u001B[32mIn[41]\u001B[39m\u001B[32m, line 5\u001B[39m\n\u001B[32m      3\u001B[39m     model_evaluation_config = config.get_model_evaluation()\n\u001B[32m      4\u001B[39m     model_evaluation = ModelEvaluation(config=model_evaluation_config)\n\u001B[32m----> \u001B[39m\u001B[32m5\u001B[39m     \u001B[43mmodel_evaluation\u001B[49m\u001B[43m.\u001B[49m\u001B[43mlog_into_mlflow\u001B[49m\u001B[43m(\u001B[49m\u001B[43m)\u001B[49m\n\u001B[32m      6\u001B[39m \u001B[38;5;28;01mexcept\u001B[39;00m \u001B[38;5;167;01mException\u001B[39;00m \u001B[38;5;28;01mas\u001B[39;00m e:\n\u001B[32m      7\u001B[39m     \u001B[38;5;28;01mraise\u001B[39;00m e\n",
      "\u001B[36mCell\u001B[39m\u001B[36m \u001B[39m\u001B[32mIn[40]\u001B[39m\u001B[32m, line 47\u001B[39m, in \u001B[36mModelEvaluation.log_into_mlflow\u001B[39m\u001B[34m(self)\u001B[39m\n\u001B[32m     40\u001B[39m \u001B[38;5;66;03m# Model registry does not work with file store\u001B[39;00m\n\u001B[32m     41\u001B[39m \u001B[38;5;28;01mif\u001B[39;00m tracking_url_type_store != \u001B[33m\"\u001B[39m\u001B[33mfile\u001B[39m\u001B[33m\"\u001B[39m:\n\u001B[32m     42\u001B[39m \n\u001B[32m     43\u001B[39m     \u001B[38;5;66;03m# Register the model\u001B[39;00m\n\u001B[32m     44\u001B[39m     \u001B[38;5;66;03m# There are other ways to use the Model Registry, which depends on the use case,\u001B[39;00m\n\u001B[32m     45\u001B[39m     \u001B[38;5;66;03m# please refer to the doc for more information:\u001B[39;00m\n\u001B[32m     46\u001B[39m     \u001B[38;5;66;03m# https://mlflow.org/docs/latest/model-registry.html#api-workflow\u001B[39;00m\n\u001B[32m---> \u001B[39m\u001B[32m47\u001B[39m     \u001B[43mmlflow\u001B[49m\u001B[43m.\u001B[49m\u001B[43msklearn\u001B[49m\u001B[43m.\u001B[49m\u001B[43mlog_model\u001B[49m\u001B[43m(\u001B[49m\u001B[43mmodel\u001B[49m\u001B[43m,\u001B[49m\u001B[43m \u001B[49m\u001B[33;43m\"\u001B[39;49m\u001B[33;43mmodel\u001B[39;49m\u001B[33;43m\"\u001B[39;49m\u001B[43m)\u001B[49m\n\u001B[32m     49\u001B[39m \u001B[38;5;28;01melse\u001B[39;00m:\n\u001B[32m     50\u001B[39m     mlflow.sklearn.log_model(model, \u001B[33m\"\u001B[39m\u001B[33mmodel\u001B[39m\u001B[33m\"\u001B[39m)\n",
      "\u001B[36mFile \u001B[39m\u001B[32m~\\PycharmProjects\\Mlops_Project_1\\venv\\Lib\\site-packages\\mlflow\\sklearn\\__init__.py:426\u001B[39m, in \u001B[36mlog_model\u001B[39m\u001B[34m(sk_model, artifact_path, conda_env, code_paths, serialization_format, registered_model_name, signature, input_example, await_registration_for, pip_requirements, extra_pip_requirements, pyfunc_predict_fn, metadata, params, tags, model_type, step, model_id, name)\u001B[39m\n\u001B[32m    334\u001B[39m \u001B[38;5;129m@format_docstring\u001B[39m(LOG_MODEL_PARAM_DOCS.format(package_name=\u001B[33m\"\u001B[39m\u001B[33mscikit-learn\u001B[39m\u001B[33m\"\u001B[39m))\n\u001B[32m    335\u001B[39m \u001B[38;5;28;01mdef\u001B[39;00m\u001B[38;5;250m \u001B[39m\u001B[34mlog_model\u001B[39m(\n\u001B[32m    336\u001B[39m     sk_model,\n\u001B[32m   (...)\u001B[39m\u001B[32m    355\u001B[39m     name: \u001B[38;5;28mstr\u001B[39m | \u001B[38;5;28;01mNone\u001B[39;00m = \u001B[38;5;28;01mNone\u001B[39;00m,\n\u001B[32m    356\u001B[39m ):\n\u001B[32m    357\u001B[39m \u001B[38;5;250m    \u001B[39m\u001B[33;03m\"\"\"\u001B[39;00m\n\u001B[32m    358\u001B[39m \u001B[33;03m    Log a scikit-learn model as an MLflow artifact for the current run. Produces an MLflow Model\u001B[39;00m\n\u001B[32m    359\u001B[39m \u001B[33;03m    containing the following flavors:\u001B[39;00m\n\u001B[32m   (...)\u001B[39m\u001B[32m    424\u001B[39m \n\u001B[32m    425\u001B[39m \u001B[33;03m    \"\"\"\u001B[39;00m\n\u001B[32m--> \u001B[39m\u001B[32m426\u001B[39m     \u001B[38;5;28;01mreturn\u001B[39;00m \u001B[43mModel\u001B[49m\u001B[43m.\u001B[49m\u001B[43mlog\u001B[49m\u001B[43m(\u001B[49m\n\u001B[32m    427\u001B[39m \u001B[43m        \u001B[49m\u001B[43martifact_path\u001B[49m\u001B[43m=\u001B[49m\u001B[43martifact_path\u001B[49m\u001B[43m,\u001B[49m\n\u001B[32m    428\u001B[39m \u001B[43m        \u001B[49m\u001B[43mname\u001B[49m\u001B[43m=\u001B[49m\u001B[43mname\u001B[49m\u001B[43m,\u001B[49m\n\u001B[32m    429\u001B[39m \u001B[43m        \u001B[49m\u001B[43mflavor\u001B[49m\u001B[43m=\u001B[49m\u001B[43mmlflow\u001B[49m\u001B[43m.\u001B[49m\u001B[43msklearn\u001B[49m\u001B[43m,\u001B[49m\n\u001B[32m    430\u001B[39m \u001B[43m        \u001B[49m\u001B[43msk_model\u001B[49m\u001B[43m=\u001B[49m\u001B[43msk_model\u001B[49m\u001B[43m,\u001B[49m\n\u001B[32m    431\u001B[39m \u001B[43m        \u001B[49m\u001B[43mconda_env\u001B[49m\u001B[43m=\u001B[49m\u001B[43mconda_env\u001B[49m\u001B[43m,\u001B[49m\n\u001B[32m    432\u001B[39m \u001B[43m        \u001B[49m\u001B[43mcode_paths\u001B[49m\u001B[43m=\u001B[49m\u001B[43mcode_paths\u001B[49m\u001B[43m,\u001B[49m\n\u001B[32m    433\u001B[39m \u001B[43m        \u001B[49m\u001B[43mserialization_format\u001B[49m\u001B[43m=\u001B[49m\u001B[43mserialization_format\u001B[49m\u001B[43m,\u001B[49m\n\u001B[32m    434\u001B[39m \u001B[43m        \u001B[49m\u001B[43mregistered_model_name\u001B[49m\u001B[43m=\u001B[49m\u001B[43mregistered_model_name\u001B[49m\u001B[43m,\u001B[49m\n\u001B[32m    435\u001B[39m \u001B[43m        \u001B[49m\u001B[43msignature\u001B[49m\u001B[43m=\u001B[49m\u001B[43msignature\u001B[49m\u001B[43m,\u001B[49m\n\u001B[32m    436\u001B[39m \u001B[43m        \u001B[49m\u001B[43minput_example\u001B[49m\u001B[43m=\u001B[49m\u001B[43minput_example\u001B[49m\u001B[43m,\u001B[49m\n\u001B[32m    437\u001B[39m \u001B[43m        \u001B[49m\u001B[43mawait_registration_for\u001B[49m\u001B[43m=\u001B[49m\u001B[43mawait_registration_for\u001B[49m\u001B[43m,\u001B[49m\n\u001B[32m    438\u001B[39m \u001B[43m        \u001B[49m\u001B[43mpip_requirements\u001B[49m\u001B[43m=\u001B[49m\u001B[43mpip_requirements\u001B[49m\u001B[43m,\u001B[49m\n\u001B[32m    439\u001B[39m \u001B[43m        \u001B[49m\u001B[43mextra_pip_requirements\u001B[49m\u001B[43m=\u001B[49m\u001B[43mextra_pip_requirements\u001B[49m\u001B[43m,\u001B[49m\n\u001B[32m    440\u001B[39m \u001B[43m        \u001B[49m\u001B[43mpyfunc_predict_fn\u001B[49m\u001B[43m=\u001B[49m\u001B[43mpyfunc_predict_fn\u001B[49m\u001B[43m,\u001B[49m\n\u001B[32m    441\u001B[39m \u001B[43m        \u001B[49m\u001B[43mmetadata\u001B[49m\u001B[43m=\u001B[49m\u001B[43mmetadata\u001B[49m\u001B[43m,\u001B[49m\n\u001B[32m    442\u001B[39m \u001B[43m        \u001B[49m\u001B[43mparams\u001B[49m\u001B[43m=\u001B[49m\u001B[43mparams\u001B[49m\u001B[43m,\u001B[49m\n\u001B[32m    443\u001B[39m \u001B[43m        \u001B[49m\u001B[43mtags\u001B[49m\u001B[43m=\u001B[49m\u001B[43mtags\u001B[49m\u001B[43m,\u001B[49m\n\u001B[32m    444\u001B[39m \u001B[43m        \u001B[49m\u001B[43mmodel_type\u001B[49m\u001B[43m=\u001B[49m\u001B[43mmodel_type\u001B[49m\u001B[43m,\u001B[49m\n\u001B[32m    445\u001B[39m \u001B[43m        \u001B[49m\u001B[43mstep\u001B[49m\u001B[43m=\u001B[49m\u001B[43mstep\u001B[49m\u001B[43m,\u001B[49m\n\u001B[32m    446\u001B[39m \u001B[43m        \u001B[49m\u001B[43mmodel_id\u001B[49m\u001B[43m=\u001B[49m\u001B[43mmodel_id\u001B[49m\u001B[43m,\u001B[49m\n\u001B[32m    447\u001B[39m \u001B[43m    \u001B[49m\u001B[43m)\u001B[49m\n",
      "\u001B[36mFile \u001B[39m\u001B[32m~\\PycharmProjects\\Mlops_Project_1\\venv\\Lib\\site-packages\\mlflow\\models\\model.py:1169\u001B[39m, in \u001B[36mModel.log\u001B[39m\u001B[34m(cls, artifact_path, flavor, registered_model_name, await_registration_for, metadata, run_id, resources, auth_policy, prompts, name, model_type, params, tags, step, model_id, **kwargs)\u001B[39m\n\u001B[32m   1167\u001B[39m \u001B[38;5;28;01mif\u001B[39;00m flavor_name \u001B[38;5;129;01mis\u001B[39;00m \u001B[38;5;28;01mNone\u001B[39;00m:\n\u001B[32m   1168\u001B[39m     flavor_name = flavor.\u001B[34m__name__\u001B[39m \u001B[38;5;28;01mif\u001B[39;00m \u001B[38;5;28mhasattr\u001B[39m(flavor, \u001B[33m\"\u001B[39m\u001B[33m__name__\u001B[39m\u001B[33m\"\u001B[39m) \u001B[38;5;28;01melse\u001B[39;00m \u001B[33m\"\u001B[39m\u001B[33mcustom\u001B[39m\u001B[33m\"\u001B[39m\n\u001B[32m-> \u001B[39m\u001B[32m1169\u001B[39m model = \u001B[43m_create_logged_model\u001B[49m\u001B[43m(\u001B[49m\n\u001B[32m   1170\u001B[39m \u001B[43m    \u001B[49m\u001B[38;5;66;43;03m# TODO: Update model name\u001B[39;49;00m\n\u001B[32m   1171\u001B[39m \u001B[43m    \u001B[49m\u001B[43mname\u001B[49m\u001B[43m=\u001B[49m\u001B[43mname\u001B[49m\u001B[43m,\u001B[49m\n\u001B[32m   1172\u001B[39m \u001B[43m    \u001B[49m\u001B[43msource_run_id\u001B[49m\u001B[43m=\u001B[49m\u001B[43mrun_id\u001B[49m\u001B[43m,\u001B[49m\n\u001B[32m   1173\u001B[39m \u001B[43m    \u001B[49m\u001B[43mmodel_type\u001B[49m\u001B[43m=\u001B[49m\u001B[43mmodel_type\u001B[49m\u001B[43m,\u001B[49m\n\u001B[32m   1174\u001B[39m \u001B[43m    \u001B[49m\u001B[43mparams\u001B[49m\u001B[43m=\u001B[49m\u001B[43m{\u001B[49m\u001B[43mkey\u001B[49m\u001B[43m:\u001B[49m\u001B[43m \u001B[49m\u001B[38;5;28;43mstr\u001B[39;49m\u001B[43m(\u001B[49m\u001B[43mvalue\u001B[49m\u001B[43m)\u001B[49m\u001B[43m \u001B[49m\u001B[38;5;28;43;01mfor\u001B[39;49;00m\u001B[43m \u001B[49m\u001B[43mkey\u001B[49m\u001B[43m,\u001B[49m\u001B[43m \u001B[49m\u001B[43mvalue\u001B[49m\u001B[43m \u001B[49m\u001B[38;5;129;43;01min\u001B[39;49;00m\u001B[43m \u001B[49m\u001B[43mparams\u001B[49m\u001B[43m.\u001B[49m\u001B[43mitems\u001B[49m\u001B[43m(\u001B[49m\u001B[43m)\u001B[49m\u001B[43m}\u001B[49m\u001B[43m,\u001B[49m\n\u001B[32m   1175\u001B[39m \u001B[43m    \u001B[49m\u001B[43mtags\u001B[49m\u001B[43m=\u001B[49m\u001B[43m{\u001B[49m\u001B[43mkey\u001B[49m\u001B[43m:\u001B[49m\u001B[43m \u001B[49m\u001B[38;5;28;43mstr\u001B[39;49m\u001B[43m(\u001B[49m\u001B[43mvalue\u001B[49m\u001B[43m)\u001B[49m\u001B[43m \u001B[49m\u001B[38;5;28;43;01mfor\u001B[39;49;00m\u001B[43m \u001B[49m\u001B[43mkey\u001B[49m\u001B[43m,\u001B[49m\u001B[43m \u001B[49m\u001B[43mvalue\u001B[49m\u001B[43m \u001B[49m\u001B[38;5;129;43;01min\u001B[39;49;00m\u001B[43m \u001B[49m\u001B[43mtags\u001B[49m\u001B[43m.\u001B[49m\u001B[43mitems\u001B[49m\u001B[43m(\u001B[49m\u001B[43m)\u001B[49m\u001B[43m}\u001B[49m\n\u001B[32m   1176\u001B[39m \u001B[43m    \u001B[49m\u001B[38;5;28;43;01mif\u001B[39;49;00m\u001B[43m \u001B[49m\u001B[43mtags\u001B[49m\u001B[43m \u001B[49m\u001B[38;5;129;43;01mis\u001B[39;49;00m\u001B[43m \u001B[49m\u001B[38;5;129;43;01mnot\u001B[39;49;00m\u001B[43m \u001B[49m\u001B[38;5;28;43;01mNone\u001B[39;49;00m\n\u001B[32m   1177\u001B[39m \u001B[43m    \u001B[49m\u001B[38;5;28;43;01melse\u001B[39;49;00m\u001B[43m \u001B[49m\u001B[38;5;28;43;01mNone\u001B[39;49;00m\u001B[43m,\u001B[49m\n\u001B[32m   1178\u001B[39m \u001B[43m    \u001B[49m\u001B[43mflavor\u001B[49m\u001B[43m=\u001B[49m\u001B[43mflavor_name\u001B[49m\u001B[43m,\u001B[49m\n\u001B[32m   1179\u001B[39m \u001B[43m\u001B[49m\u001B[43m)\u001B[49m\n\u001B[32m   1180\u001B[39m _last_logged_model_id.set(model.model_id)\n\u001B[32m   1181\u001B[39m \u001B[38;5;28;01mif\u001B[39;00m (\n\u001B[32m   1182\u001B[39m     MLFLOW_PRINT_MODEL_URLS_ON_CREATION.get()\n\u001B[32m   1183\u001B[39m     \u001B[38;5;129;01mand\u001B[39;00m is_databricks_uri(tracking_uri)\n\u001B[32m   1184\u001B[39m     \u001B[38;5;129;01mand\u001B[39;00m (workspace_url := get_workspace_url())\n\u001B[32m   1185\u001B[39m ):\n",
      "\u001B[36mFile \u001B[39m\u001B[32m~\\PycharmProjects\\Mlops_Project_1\\venv\\Lib\\site-packages\\mlflow\\tracking\\fluent.py:2305\u001B[39m, in \u001B[36m_create_logged_model\u001B[39m\u001B[34m(name, source_run_id, tags, params, model_type, experiment_id, flavor)\u001B[39m\n\u001B[32m   2301\u001B[39m     experiment_id = _get_experiment_id() \u001B[38;5;129;01mor\u001B[39;00m (\n\u001B[32m   2302\u001B[39m         get_run(source_run_id).info.experiment_id \u001B[38;5;28;01mif\u001B[39;00m source_run_id \u001B[38;5;28;01melse\u001B[39;00m \u001B[38;5;28;01mNone\u001B[39;00m\n\u001B[32m   2303\u001B[39m     )\n\u001B[32m   2304\u001B[39m resolved_tags = context_registry.resolve_tags(tags)\n\u001B[32m-> \u001B[39m\u001B[32m2305\u001B[39m \u001B[38;5;28;01mreturn\u001B[39;00m \u001B[43mMlflowClient\u001B[49m\u001B[43m(\u001B[49m\u001B[43m)\u001B[49m\u001B[43m.\u001B[49m\u001B[43m_create_logged_model\u001B[49m\u001B[43m(\u001B[49m\n\u001B[32m   2306\u001B[39m \u001B[43m    \u001B[49m\u001B[43mexperiment_id\u001B[49m\u001B[43m=\u001B[49m\u001B[43mexperiment_id\u001B[49m\u001B[43m,\u001B[49m\n\u001B[32m   2307\u001B[39m \u001B[43m    \u001B[49m\u001B[43mname\u001B[49m\u001B[43m=\u001B[49m\u001B[43mname\u001B[49m\u001B[43m,\u001B[49m\n\u001B[32m   2308\u001B[39m \u001B[43m    \u001B[49m\u001B[43msource_run_id\u001B[49m\u001B[43m=\u001B[49m\u001B[43msource_run_id\u001B[49m\u001B[43m,\u001B[49m\n\u001B[32m   2309\u001B[39m \u001B[43m    \u001B[49m\u001B[43mtags\u001B[49m\u001B[43m=\u001B[49m\u001B[43mresolved_tags\u001B[49m\u001B[43m,\u001B[49m\n\u001B[32m   2310\u001B[39m \u001B[43m    \u001B[49m\u001B[43mparams\u001B[49m\u001B[43m=\u001B[49m\u001B[43mparams\u001B[49m\u001B[43m,\u001B[49m\n\u001B[32m   2311\u001B[39m \u001B[43m    \u001B[49m\u001B[43mmodel_type\u001B[49m\u001B[43m=\u001B[49m\u001B[43mmodel_type\u001B[49m\u001B[43m,\u001B[49m\n\u001B[32m   2312\u001B[39m \u001B[43m    \u001B[49m\u001B[43mflavor\u001B[49m\u001B[43m=\u001B[49m\u001B[43mflavor\u001B[49m\u001B[43m,\u001B[49m\n\u001B[32m   2313\u001B[39m \u001B[43m\u001B[49m\u001B[43m)\u001B[49m\n",
      "\u001B[36mFile \u001B[39m\u001B[32m~\\PycharmProjects\\Mlops_Project_1\\venv\\Lib\\site-packages\\mlflow\\tracking\\client.py:5394\u001B[39m, in \u001B[36mMlflowClient._create_logged_model\u001B[39m\u001B[34m(self, experiment_id, name, source_run_id, tags, params, model_type, flavor)\u001B[39m\n\u001B[32m   5384\u001B[39m \u001B[38;5;28;01mdef\u001B[39;00m\u001B[38;5;250m \u001B[39m\u001B[34m_create_logged_model\u001B[39m(\n\u001B[32m   5385\u001B[39m     \u001B[38;5;28mself\u001B[39m,\n\u001B[32m   5386\u001B[39m     experiment_id: \u001B[38;5;28mstr\u001B[39m,\n\u001B[32m   (...)\u001B[39m\u001B[32m   5392\u001B[39m     flavor: \u001B[38;5;28mstr\u001B[39m | \u001B[38;5;28;01mNone\u001B[39;00m = \u001B[38;5;28;01mNone\u001B[39;00m,\n\u001B[32m   5393\u001B[39m ) -> LoggedModel:\n\u001B[32m-> \u001B[39m\u001B[32m5394\u001B[39m     \u001B[38;5;28;01mreturn\u001B[39;00m \u001B[38;5;28;43mself\u001B[39;49m\u001B[43m.\u001B[49m\u001B[43m_tracking_client\u001B[49m\u001B[43m.\u001B[49m\u001B[43mcreate_logged_model\u001B[49m\u001B[43m(\u001B[49m\n\u001B[32m   5395\u001B[39m \u001B[43m        \u001B[49m\u001B[43mexperiment_id\u001B[49m\u001B[43m,\u001B[49m\u001B[43m \u001B[49m\u001B[43mname\u001B[49m\u001B[43m,\u001B[49m\u001B[43m \u001B[49m\u001B[43msource_run_id\u001B[49m\u001B[43m,\u001B[49m\u001B[43m \u001B[49m\u001B[43mtags\u001B[49m\u001B[43m,\u001B[49m\u001B[43m \u001B[49m\u001B[43mparams\u001B[49m\u001B[43m,\u001B[49m\u001B[43m \u001B[49m\u001B[43mmodel_type\u001B[49m\u001B[43m,\u001B[49m\u001B[43m \u001B[49m\u001B[43mflavor\u001B[49m\n\u001B[32m   5396\u001B[39m \u001B[43m    \u001B[49m\u001B[43m)\u001B[49m\n",
      "\u001B[36mFile \u001B[39m\u001B[32m~\\PycharmProjects\\Mlops_Project_1\\venv\\Lib\\site-packages\\mlflow\\telemetry\\track.py:23\u001B[39m, in \u001B[36mrecord_usage_event.<locals>.decorator.<locals>.wrapper\u001B[39m\u001B[34m(*args, **kwargs)\u001B[39m\n\u001B[32m     20\u001B[39m \u001B[38;5;129m@functools\u001B[39m.wraps(func)\n\u001B[32m     21\u001B[39m \u001B[38;5;28;01mdef\u001B[39;00m\u001B[38;5;250m \u001B[39m\u001B[34mwrapper\u001B[39m(*args: P.args, **kwargs: P.kwargs) -> R:\n\u001B[32m     22\u001B[39m     \u001B[38;5;28;01mif\u001B[39;00m is_telemetry_disabled() \u001B[38;5;129;01mor\u001B[39;00m _is_telemetry_disabled_for_event(event):\n\u001B[32m---> \u001B[39m\u001B[32m23\u001B[39m         \u001B[38;5;28;01mreturn\u001B[39;00m \u001B[43mfunc\u001B[49m\u001B[43m(\u001B[49m\u001B[43m*\u001B[49m\u001B[43margs\u001B[49m\u001B[43m,\u001B[49m\u001B[43m \u001B[49m\u001B[43m*\u001B[49m\u001B[43m*\u001B[49m\u001B[43mkwargs\u001B[49m\u001B[43m)\u001B[49m\n\u001B[32m     25\u001B[39m     success = \u001B[38;5;28;01mTrue\u001B[39;00m\n\u001B[32m     26\u001B[39m     result = \u001B[38;5;28;01mNone\u001B[39;00m\n",
      "\u001B[36mFile \u001B[39m\u001B[32m~\\PycharmProjects\\Mlops_Project_1\\venv\\Lib\\site-packages\\mlflow\\tracking\\_tracking_service\\client.py:860\u001B[39m, in \u001B[36mTrackingServiceClient.create_logged_model\u001B[39m\u001B[34m(self, experiment_id, name, source_run_id, tags, params, model_type, flavor)\u001B[39m\n\u001B[32m    847\u001B[39m \u001B[38;5;129m@record_usage_event\u001B[39m(CreateLoggedModelEvent)\n\u001B[32m    848\u001B[39m \u001B[38;5;28;01mdef\u001B[39;00m\u001B[38;5;250m \u001B[39m\u001B[34mcreate_logged_model\u001B[39m(\n\u001B[32m    849\u001B[39m     \u001B[38;5;28mself\u001B[39m,\n\u001B[32m   (...)\u001B[39m\u001B[32m    858\u001B[39m     flavor: \u001B[38;5;28mstr\u001B[39m | \u001B[38;5;28;01mNone\u001B[39;00m = \u001B[38;5;28;01mNone\u001B[39;00m,\n\u001B[32m    859\u001B[39m ) -> LoggedModel:\n\u001B[32m--> \u001B[39m\u001B[32m860\u001B[39m     \u001B[38;5;28;01mreturn\u001B[39;00m \u001B[38;5;28;43mself\u001B[39;49m\u001B[43m.\u001B[49m\u001B[43mstore\u001B[49m\u001B[43m.\u001B[49m\u001B[43mcreate_logged_model\u001B[49m\u001B[43m(\u001B[49m\n\u001B[32m    861\u001B[39m \u001B[43m        \u001B[49m\u001B[43mexperiment_id\u001B[49m\u001B[43m=\u001B[49m\u001B[43mexperiment_id\u001B[49m\u001B[43m,\u001B[49m\n\u001B[32m    862\u001B[39m \u001B[43m        \u001B[49m\u001B[43mname\u001B[49m\u001B[43m=\u001B[49m\u001B[43mname\u001B[49m\u001B[43m,\u001B[49m\n\u001B[32m    863\u001B[39m \u001B[43m        \u001B[49m\u001B[43msource_run_id\u001B[49m\u001B[43m=\u001B[49m\u001B[43msource_run_id\u001B[49m\u001B[43m,\u001B[49m\n\u001B[32m    864\u001B[39m \u001B[43m        \u001B[49m\u001B[43mtags\u001B[49m\u001B[43m=\u001B[49m\u001B[43m[\u001B[49m\u001B[43mLoggedModelTag\u001B[49m\u001B[43m(\u001B[49m\u001B[38;5;28;43mstr\u001B[39;49m\u001B[43m(\u001B[49m\u001B[43mkey\u001B[49m\u001B[43m)\u001B[49m\u001B[43m,\u001B[49m\u001B[43m \u001B[49m\u001B[38;5;28;43mstr\u001B[39;49m\u001B[43m(\u001B[49m\u001B[43mvalue\u001B[49m\u001B[43m)\u001B[49m\u001B[43m)\u001B[49m\u001B[43m \u001B[49m\u001B[38;5;28;43;01mfor\u001B[39;49;00m\u001B[43m \u001B[49m\u001B[43mkey\u001B[49m\u001B[43m,\u001B[49m\u001B[43m \u001B[49m\u001B[43mvalue\u001B[49m\u001B[43m \u001B[49m\u001B[38;5;129;43;01min\u001B[39;49;00m\u001B[43m \u001B[49m\u001B[43mtags\u001B[49m\u001B[43m.\u001B[49m\u001B[43mitems\u001B[49m\u001B[43m(\u001B[49m\u001B[43m)\u001B[49m\u001B[43m]\u001B[49m\n\u001B[32m    865\u001B[39m \u001B[43m        \u001B[49m\u001B[38;5;28;43;01mif\u001B[39;49;00m\u001B[43m \u001B[49m\u001B[43mtags\u001B[49m\u001B[43m \u001B[49m\u001B[38;5;129;43;01mis\u001B[39;49;00m\u001B[43m \u001B[49m\u001B[38;5;129;43;01mnot\u001B[39;49;00m\u001B[43m \u001B[49m\u001B[38;5;28;43;01mNone\u001B[39;49;00m\n\u001B[32m    866\u001B[39m \u001B[43m        \u001B[49m\u001B[38;5;28;43;01melse\u001B[39;49;00m\u001B[43m \u001B[49m\u001B[43mtags\u001B[49m\u001B[43m,\u001B[49m\n\u001B[32m    867\u001B[39m \u001B[43m        \u001B[49m\u001B[43mparams\u001B[49m\u001B[43m=\u001B[49m\u001B[43m[\u001B[49m\u001B[43mLoggedModelParameter\u001B[49m\u001B[43m(\u001B[49m\u001B[38;5;28;43mstr\u001B[39;49m\u001B[43m(\u001B[49m\u001B[43mkey\u001B[49m\u001B[43m)\u001B[49m\u001B[43m,\u001B[49m\u001B[43m \u001B[49m\u001B[38;5;28;43mstr\u001B[39;49m\u001B[43m(\u001B[49m\u001B[43mvalue\u001B[49m\u001B[43m)\u001B[49m\u001B[43m)\u001B[49m\u001B[43m \u001B[49m\u001B[38;5;28;43;01mfor\u001B[39;49;00m\u001B[43m \u001B[49m\u001B[43mkey\u001B[49m\u001B[43m,\u001B[49m\u001B[43m \u001B[49m\u001B[43mvalue\u001B[49m\u001B[43m \u001B[49m\u001B[38;5;129;43;01min\u001B[39;49;00m\u001B[43m \u001B[49m\u001B[43mparams\u001B[49m\u001B[43m.\u001B[49m\u001B[43mitems\u001B[49m\u001B[43m(\u001B[49m\u001B[43m)\u001B[49m\u001B[43m]\u001B[49m\n\u001B[32m    868\u001B[39m \u001B[43m        \u001B[49m\u001B[38;5;28;43;01mif\u001B[39;49;00m\u001B[43m \u001B[49m\u001B[43mparams\u001B[49m\u001B[43m \u001B[49m\u001B[38;5;129;43;01mis\u001B[39;49;00m\u001B[43m \u001B[49m\u001B[38;5;129;43;01mnot\u001B[39;49;00m\u001B[43m \u001B[49m\u001B[38;5;28;43;01mNone\u001B[39;49;00m\n\u001B[32m    869\u001B[39m \u001B[43m        \u001B[49m\u001B[38;5;28;43;01melse\u001B[39;49;00m\u001B[43m \u001B[49m\u001B[43mparams\u001B[49m\u001B[43m,\u001B[49m\n\u001B[32m    870\u001B[39m \u001B[43m        \u001B[49m\u001B[43mmodel_type\u001B[49m\u001B[43m=\u001B[49m\u001B[43mmodel_type\u001B[49m\u001B[43m,\u001B[49m\n\u001B[32m    871\u001B[39m \u001B[43m    \u001B[49m\u001B[43m)\u001B[49m\n",
      "\u001B[36mFile \u001B[39m\u001B[32m~\\PycharmProjects\\Mlops_Project_1\\venv\\Lib\\site-packages\\mlflow\\store\\tracking\\rest_store.py:824\u001B[39m, in \u001B[36mRestStore.create_logged_model\u001B[39m\u001B[34m(self, experiment_id, name, source_run_id, tags, params, model_type)\u001B[39m\n\u001B[32m    811\u001B[39m     remaining_params = params[initial_batch_size:]\n\u001B[32m    813\u001B[39m req_body = message_to_json(\n\u001B[32m    814\u001B[39m     CreateLoggedModel(\n\u001B[32m    815\u001B[39m         experiment_id=experiment_id,\n\u001B[32m   (...)\u001B[39m\u001B[32m    821\u001B[39m     )\n\u001B[32m    822\u001B[39m )\n\u001B[32m--> \u001B[39m\u001B[32m824\u001B[39m response_proto = \u001B[38;5;28;43mself\u001B[39;49m\u001B[43m.\u001B[49m\u001B[43m_call_endpoint\u001B[49m\u001B[43m(\u001B[49m\u001B[43mCreateLoggedModel\u001B[49m\u001B[43m,\u001B[49m\u001B[43m \u001B[49m\u001B[43mreq_body\u001B[49m\u001B[43m)\u001B[49m\n\u001B[32m    825\u001B[39m model = LoggedModel.from_proto(response_proto.model)\n\u001B[32m    827\u001B[39m \u001B[38;5;66;03m# Log remaining params if there are any\u001B[39;00m\n",
      "\u001B[36mFile \u001B[39m\u001B[32m~\\PycharmProjects\\Mlops_Project_1\\venv\\Lib\\site-packages\\mlflow\\store\\tracking\\rest_store.py:134\u001B[39m, in \u001B[36mRestStore._call_endpoint\u001B[39m\u001B[34m(self, api, json_body, endpoint, retry_timeout_seconds)\u001B[39m\n\u001B[32m    132\u001B[39m     endpoint, method = _METHOD_TO_INFO[api]\n\u001B[32m    133\u001B[39m response_proto = api.Response()\n\u001B[32m--> \u001B[39m\u001B[32m134\u001B[39m \u001B[38;5;28;01mreturn\u001B[39;00m \u001B[43mcall_endpoint\u001B[49m\u001B[43m(\u001B[49m\n\u001B[32m    135\u001B[39m \u001B[43m    \u001B[49m\u001B[38;5;28;43mself\u001B[39;49m\u001B[43m.\u001B[49m\u001B[43mget_host_creds\u001B[49m\u001B[43m(\u001B[49m\u001B[43m)\u001B[49m\u001B[43m,\u001B[49m\n\u001B[32m    136\u001B[39m \u001B[43m    \u001B[49m\u001B[43mendpoint\u001B[49m\u001B[43m,\u001B[49m\n\u001B[32m    137\u001B[39m \u001B[43m    \u001B[49m\u001B[43mmethod\u001B[49m\u001B[43m,\u001B[49m\n\u001B[32m    138\u001B[39m \u001B[43m    \u001B[49m\u001B[43mjson_body\u001B[49m\u001B[43m,\u001B[49m\n\u001B[32m    139\u001B[39m \u001B[43m    \u001B[49m\u001B[43mresponse_proto\u001B[49m\u001B[43m,\u001B[49m\n\u001B[32m    140\u001B[39m \u001B[43m    \u001B[49m\u001B[43mretry_timeout_seconds\u001B[49m\u001B[43m=\u001B[49m\u001B[43mretry_timeout_seconds\u001B[49m\u001B[43m,\u001B[49m\n\u001B[32m    141\u001B[39m \u001B[43m\u001B[49m\u001B[43m)\u001B[49m\n",
      "\u001B[36mFile \u001B[39m\u001B[32m~\\PycharmProjects\\Mlops_Project_1\\venv\\Lib\\site-packages\\mlflow\\utils\\rest_utils.py:554\u001B[39m, in \u001B[36mcall_endpoint\u001B[39m\u001B[34m(host_creds, endpoint, method, json_body, response_proto, extra_headers, retry_timeout_seconds)\u001B[39m\n\u001B[32m    551\u001B[39m     call_kwargs[\u001B[33m\"\u001B[39m\u001B[33mjson\u001B[39m\u001B[33m\"\u001B[39m] = json_body\n\u001B[32m    552\u001B[39m     response = http_request(**call_kwargs)\n\u001B[32m--> \u001B[39m\u001B[32m554\u001B[39m response = \u001B[43mverify_rest_response\u001B[49m\u001B[43m(\u001B[49m\u001B[43mresponse\u001B[49m\u001B[43m,\u001B[49m\u001B[43m \u001B[49m\u001B[43mendpoint\u001B[49m\u001B[43m)\u001B[49m\n\u001B[32m    555\u001B[39m response_to_parse = response.text\n\u001B[32m    556\u001B[39m \u001B[38;5;28;01mtry\u001B[39;00m:\n",
      "\u001B[36mFile \u001B[39m\u001B[32m~\\PycharmProjects\\Mlops_Project_1\\venv\\Lib\\site-packages\\mlflow\\utils\\rest_utils.py:308\u001B[39m, in \u001B[36mverify_rest_response\u001B[39m\u001B[34m(response, endpoint)\u001B[39m\n\u001B[32m    306\u001B[39m \u001B[38;5;28;01mif\u001B[39;00m response.status_code != \u001B[32m200\u001B[39m:\n\u001B[32m    307\u001B[39m     \u001B[38;5;28;01mif\u001B[39;00m _can_parse_as_json_object(response.text):\n\u001B[32m--> \u001B[39m\u001B[32m308\u001B[39m         \u001B[38;5;28;01mraise\u001B[39;00m RestException(json.loads(response.text))\n\u001B[32m    309\u001B[39m     \u001B[38;5;28;01melse\u001B[39;00m:\n\u001B[32m    310\u001B[39m         base_msg = (\n\u001B[32m    311\u001B[39m             \u001B[33mf\u001B[39m\u001B[33m\"\u001B[39m\u001B[33mAPI request to endpoint \u001B[39m\u001B[38;5;132;01m{\u001B[39;00mendpoint\u001B[38;5;132;01m}\u001B[39;00m\u001B[33m \u001B[39m\u001B[33m\"\u001B[39m\n\u001B[32m    312\u001B[39m             \u001B[33mf\u001B[39m\u001B[33m\"\u001B[39m\u001B[33mfailed with error code \u001B[39m\u001B[38;5;132;01m{\u001B[39;00mresponse.status_code\u001B[38;5;132;01m}\u001B[39;00m\u001B[33m != 200\u001B[39m\u001B[33m\"\u001B[39m\n\u001B[32m    313\u001B[39m         )\n",
      "\u001B[31mRestException\u001B[39m: INTERNAL_ERROR: Response: {'error': 'unsupported endpoint, please contact support@dagshub.com'}"
     ]
    }
   ],
   "execution_count": 41
  },
  {
   "metadata": {},
   "cell_type": "code",
   "outputs": [],
   "execution_count": null,
   "source": "",
   "id": "68034429d58a326f"
  }
 ],
 "metadata": {
  "kernelspec": {
   "display_name": "Python 3",
   "language": "python",
   "name": "python3"
  },
  "language_info": {
   "codemirror_mode": {
    "name": "ipython",
    "version": 2
   },
   "file_extension": ".py",
   "mimetype": "text/x-python",
   "name": "python",
   "nbconvert_exporter": "python",
   "pygments_lexer": "ipython2",
   "version": "2.7.6"
  }
 },
 "nbformat": 4,
 "nbformat_minor": 5
}
