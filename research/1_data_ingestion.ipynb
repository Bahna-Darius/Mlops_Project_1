{
 "cells": [
  {
   "metadata": {},
   "cell_type": "markdown",
   "source": "# Import Libraries:",
   "id": "5118acf06fce88db"
  },
  {
   "cell_type": "code",
   "id": "initial_id",
   "metadata": {
    "collapsed": true,
    "ExecuteTime": {
     "end_time": "2025-09-22T19:19:03.497773Z",
     "start_time": "2025-09-22T19:19:03.340332Z"
    }
   },
   "source": [
    "from dataclasses import dataclass\n",
    "from datascience.constants import *\n",
    "from datascience.utils.common import read_yaml, create_directories\n",
    "from pathlib import Path\n",
    "from datascience import logger_app\n",
    "import urllib.request as request\n",
    "import os\n",
    "import zipfile"
   ],
   "outputs": [],
   "execution_count": 1
  },
  {
   "metadata": {
    "ExecuteTime": {
     "end_time": "2025-09-22T19:19:03.506198Z",
     "start_time": "2025-09-22T19:19:03.497773Z"
    }
   },
   "cell_type": "code",
   "source": [
    "@dataclass\n",
    "class DataIngestionConfig:\n",
    "    root_dir: Path\n",
    "    source_URL: str\n",
    "    local_data_file: Path\n",
    "    unzip_dir: Path"
   ],
   "id": "ac869d5f6115fb8c",
   "outputs": [],
   "execution_count": 2
  },
  {
   "metadata": {
    "ExecuteTime": {
     "end_time": "2025-09-22T19:19:03.516497Z",
     "start_time": "2025-09-22T19:19:03.511471Z"
    }
   },
   "cell_type": "code",
   "source": [
    "class ConfigurationManager:\n",
    "    def __init__(\n",
    "            self,\n",
    "            config_filepath=CONFIG_FILE_PATH,\n",
    "            params_filepath=PARAMS_FILE_PATH,\n",
    "            schema_filepath=SCHEMA_FILE_PATH\n",
    "    ):\n",
    "        self.config=read_yaml(config_filepath)\n",
    "        self.params=read_yaml(params_filepath),\n",
    "        self.schema=read_yaml(schema_filepath)\n",
    "\n",
    "        create_directories([self.config.artifacts_root])\n",
    "\n",
    "    def get_data_ingestion_config(self)->DataIngestionConfig:\n",
    "        config=self.config.data_ingestion\n",
    "        create_directories([config.root_dir])\n",
    "\n",
    "        data_ingestion_config = DataIngestionConfig(\n",
    "            root_dir=config.root_dir,\n",
    "            source_URL=config.source_URL,\n",
    "            local_data_file=config.local_data_file,\n",
    "            unzip_dir=config.unzip_dir\n",
    "        )\n",
    "\n",
    "        return data_ingestion_config\n",
    "\n"
   ],
   "id": "cc8b305a61c73402",
   "outputs": [],
   "execution_count": 3
  },
  {
   "metadata": {
    "ExecuteTime": {
     "end_time": "2025-09-22T19:19:03.526882Z",
     "start_time": "2025-09-22T19:19:03.516497Z"
    }
   },
   "cell_type": "code",
   "source": [
    "## component-Data Ingestion\n",
    "\n",
    "class DataIngestion:\n",
    "    def __init__(self,config:DataIngestionConfig):\n",
    "        self.config=config\n",
    "\n",
    "    # Downloading the zip file\n",
    "    def download_file(self):\n",
    "        if not os.path.exists(self.config.local_data_file):\n",
    "            filename, headers = request.urlretrieve(\n",
    "                url = self.config.source_URL,\n",
    "                filename = self.config.local_data_file\n",
    "            )\n",
    "            logger_app.info(f\"{filename} download! with following info: \\n{headers}\")\n",
    "        else:\n",
    "            logger_app.info(f\"File already exists\")\n",
    "\n",
    "    def extract_zip_file(self):\n",
    "        \"\"\"\n",
    "        zip_file_path: str\n",
    "        Extracts the zip file into the data directory\n",
    "        Function returns None\n",
    "        \"\"\"\n",
    "        unzip_path = self.config.unzip_dir\n",
    "        os.makedirs(unzip_path, exist_ok=True)\n",
    "        with zipfile.ZipFile(self.config.local_data_file, 'r') as zip_ref:\n",
    "            zip_ref.extractall(unzip_path)\n"
   ],
   "id": "6b90f41d8dec0ef6",
   "outputs": [],
   "execution_count": 4
  },
  {
   "metadata": {
    "ExecuteTime": {
     "end_time": "2025-09-22T19:19:04.702653Z",
     "start_time": "2025-09-22T19:19:03.526882Z"
    }
   },
   "cell_type": "code",
   "source": [
    "try:\n",
    "    config=ConfigurationManager()\n",
    "    data_ingestion_config=config.get_data_ingestion_config()\n",
    "    data_ingestion=DataIngestion(config=data_ingestion_config)\n",
    "    data_ingestion.download_file()\n",
    "    data_ingestion.extract_zip_file()\n",
    "except Exception as e:\n",
    "    raise e"
   ],
   "id": "12680d0de218fbe",
   "outputs": [
    {
     "name": "stdout",
     "output_type": "stream",
     "text": [
      "[2025-09-22 22:19:03,538-> INFO-> common-> yaml file: C:\\Users\\Darius\\PycharmProjects\\Mlops_Project_1\\src\\datascience\\config\\config.yaml loaded successfully]\n",
      "[2025-09-22 22:19:03,538-> INFO-> common-> yaml file: C:\\Users\\Darius\\PycharmProjects\\Mlops_Project_1\\params.yaml loaded successfully]\n",
      "[2025-09-22 22:19:03,542-> INFO-> common-> yaml file: C:\\Users\\Darius\\PycharmProjects\\Mlops_Project_1\\schema.yaml loaded successfully]\n",
      "[2025-09-22 22:19:03,546-> INFO-> common-> created directory at: artifacts]\n",
      "[2025-09-22 22:19:03,546-> INFO-> common-> created directory at: artifacts/data_ingestion]\n",
      "[2025-09-22 22:19:04,686-> INFO-> 1600344133-> artifacts/data_ingestion/data.zip download! with following info: \n",
      "Connection: close\n",
      "Content-Length: 23329\n",
      "Cache-Control: max-age=300\n",
      "Content-Security-Policy: default-src 'none'; style-src 'unsafe-inline'; sandbox\n",
      "Content-Type: application/zip\n",
      "ETag: \"c69888a4ae59bc5a893392785a938ccd4937981c06ba8a9d6a21aa52b4ab5b6e\"\n",
      "Strict-Transport-Security: max-age=31536000\n",
      "X-Content-Type-Options: nosniff\n",
      "X-Frame-Options: deny\n",
      "X-XSS-Protection: 1; mode=block\n",
      "X-GitHub-Request-Id: 9828:162C5B:17D54F:1B18D6:68D1A127\n",
      "Accept-Ranges: bytes\n",
      "Date: Mon, 22 Sep 2025 19:19:03 GMT\n",
      "Via: 1.1 varnish\n",
      "X-Served-By: cache-vie6352-VIE\n",
      "X-Cache: MISS\n",
      "X-Cache-Hits: 0\n",
      "X-Timer: S1758568744.760159,VS0,VE170\n",
      "Vary: Authorization,Accept-Encoding\n",
      "Access-Control-Allow-Origin: *\n",
      "Cross-Origin-Resource-Policy: cross-origin\n",
      "X-Fastly-Request-ID: 593d7a8978a78c3c2db959f1dea1881195ad7f18\n",
      "Expires: Mon, 22 Sep 2025 19:24:03 GMT\n",
      "Source-Age: 0\n",
      "\n",
      "]\n"
     ]
    }
   ],
   "execution_count": 5
  },
  {
   "metadata": {
    "ExecuteTime": {
     "end_time": "2025-09-22T19:19:04.922246Z",
     "start_time": "2025-09-22T19:19:04.916068Z"
    }
   },
   "cell_type": "code",
   "source": "",
   "id": "68e2b0d5a479b909",
   "outputs": [],
   "execution_count": null
  }
 ],
 "metadata": {
  "kernelspec": {
   "display_name": "Python 3",
   "language": "python",
   "name": "python3"
  },
  "language_info": {
   "codemirror_mode": {
    "name": "ipython",
    "version": 2
   },
   "file_extension": ".py",
   "mimetype": "text/x-python",
   "name": "python",
   "nbconvert_exporter": "python",
   "pygments_lexer": "ipython2",
   "version": "2.7.6"
  }
 },
 "nbformat": 4,
 "nbformat_minor": 5
}
